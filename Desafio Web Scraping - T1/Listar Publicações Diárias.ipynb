{
 "cells": [
  {
   "cell_type": "code",
   "execution_count": 1,
   "id": "c5d653c4",
   "metadata": {},
   "outputs": [],
   "source": [
    "import pandas as pd\n",
    "import requests\n",
    "import re\n",
    "from bs4 import BeautifulSoup\n",
    "from selenium import webdriver\n",
    "from selenium.webdriver.chrome.options import Options"
   ]
  },
  {
   "cell_type": "code",
   "execution_count": 31,
   "id": "0b03d276",
   "metadata": {},
   "outputs": [],
   "source": [
    "def listar_publicacoes(data):\n",
    "    \n",
    "    options = Options()\n",
    "    options.add_argument('--headless')\n",
    "    \n",
    "    driver = webdriver.Chrome(options=options)\n",
    "\n",
    "    url = 'https://www.in.gov.br/leiturajornal'\n",
    "\n",
    "    data = data\n",
    "    orgao = 'Ministério-da-Saúde'\n",
    "    orgao_sub = 'Ag%C3%AAncia%20Nacional%20de%20Vigil%C3%A2ncia%20Sanit%C3%A1ria'\n",
    "    ato = 'Resolução'\n",
    "\n",
    "    url_base = f'https://www.in.gov.br/leiturajornal?secao=dou1&data={data}&org=Minist%C3%A9rio-da-Sa%C3%BAde&org_sub=Ag%C3%AAncia%20Nacional%20de%20Vigil%C3%A2ncia%20Sanit%C3%A1ria&ato=Resolu%C3%A7%C3%A3o'\n",
    "\n",
    "    driver.get(url_base)\n",
    "               \n",
    "    html_content = driver.page_source\n",
    "\n",
    "    driver.quit()\n",
    "\n",
    "    soup = BeautifulSoup(html_content, 'html.parser')\n",
    "\n",
    "    padrao = re.compile(r'/web/dou/-/resolucao.*')\n",
    "    links = soup.find_all('a', href=padrao)\n",
    "\n",
    "    links_filtrados = [] \n",
    "    for link in links:\n",
    "        li = link.get('href')\n",
    "        links_filtrados.append(f'https://www.in.gov.br/{li}')\n",
    "        \n",
    "        #print(f'https://www.in.gov.br/{li}')\n",
    "        \n",
    "    return(links_filtrados)"
   ]
  }
 ],
 "metadata": {
  "kernelspec": {
   "display_name": "Python 3 (ipykernel)",
   "language": "python",
   "name": "python3"
  },
  "language_info": {
   "codemirror_mode": {
    "name": "ipython",
    "version": 3
   },
   "file_extension": ".py",
   "mimetype": "text/x-python",
   "name": "python",
   "nbconvert_exporter": "python",
   "pygments_lexer": "ipython3",
   "version": "3.9.13"
  }
 },
 "nbformat": 4,
 "nbformat_minor": 5
}
