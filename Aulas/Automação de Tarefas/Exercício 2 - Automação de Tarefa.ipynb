{
 "cells": [
  {
   "cell_type": "markdown",
   "id": "1948e027",
   "metadata": {},
   "source": [
    "## Exercício 2 - Automação de Tarefas"
   ]
  },
  {
   "cell_type": "markdown",
   "id": "292ba1b2",
   "metadata": {},
   "source": [
    "Utilize os conhecimentos adquiridos até o momento para agendar uma tarefa que execute de forma automática a extração dos dados do diário oficial desenvolvida durante as aulas. \n",
    "\n",
    "#### Instruções:\n",
    "- Utilize o script desenvolvido pela turma que está disponível em: [ciencia-de-dados-anvisa/Imersao](https://github.com/andfranca/ciencia-de-dados-anvisa/tree/main/Imers%C3%A3o%205/Desafio%20Web%20Scraping%20-%20Turma%201)\n",
    "- Modifique o código para salvar um arquivo em sua máquina a cada execução\n",
    "- Agende uma tarefa para rodar diáriamente (defina as necessidades)\n"
   ]
  }
 ],
 "metadata": {
  "kernelspec": {
   "display_name": "Python 3 (ipykernel)",
   "language": "python",
   "name": "python3"
  },
  "language_info": {
   "codemirror_mode": {
    "name": "ipython",
    "version": 3
   },
   "file_extension": ".py",
   "mimetype": "text/x-python",
   "name": "python",
   "nbconvert_exporter": "python",
   "pygments_lexer": "ipython3",
   "version": "3.9.13"
  }
 },
 "nbformat": 4,
 "nbformat_minor": 5
}
