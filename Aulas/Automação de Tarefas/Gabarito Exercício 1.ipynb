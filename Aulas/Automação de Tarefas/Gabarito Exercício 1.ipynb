{
 "cells": [
  {
   "cell_type": "code",
   "execution_count": null,
   "id": "f0e535c7",
   "metadata": {},
   "outputs": [],
   "source": [
    "df = pd.read_csv(\"./submission_form_database.csv\")\n",
    "text_question_element_class = \"quantumWizTextinputPaperinputInput\"\n",
    "checkbox_question_element_class = \"appsMaterialWizToggleRadiogroupOffRadio\"\n",
    "\n",
    "url = \"https://forms.gle/WY7E9N8wkiMtziTD9\"\n",
    "driver = webdriver.Chrome(executable_path=\"./chromedriver\")\n",
    "for user_id in range(len(df)):\n",
    "    driver.get(url)\n",
    "    \n",
    "    driver.maximize_window()\n",
    "    driver = answerNameAge(driver, df, text_question_element_class, user_id)\n",
    "    driver = answerCheckBox(driver, df, checkbox_question_element_class, user_id)\n",
    "    driver = submit(driver, submit_element_class)"
   ]
  }
 ],
 "metadata": {
  "kernelspec": {
   "display_name": "Python 3 (ipykernel)",
   "language": "python",
   "name": "python3"
  },
  "language_info": {
   "codemirror_mode": {
    "name": "ipython",
    "version": 3
   },
   "file_extension": ".py",
   "mimetype": "text/x-python",
   "name": "python",
   "nbconvert_exporter": "python",
   "pygments_lexer": "ipython3",
   "version": "3.9.13"
  }
 },
 "nbformat": 4,
 "nbformat_minor": 5
}
