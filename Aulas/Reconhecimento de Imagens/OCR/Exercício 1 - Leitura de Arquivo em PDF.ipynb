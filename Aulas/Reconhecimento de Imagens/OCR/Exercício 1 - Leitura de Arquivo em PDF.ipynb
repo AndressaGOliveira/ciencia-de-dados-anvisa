{
 "cells": [
  {
   "cell_type": "markdown",
   "id": "55822e6a",
   "metadata": {},
   "source": [
    "## Leitura de arquivo em PDF\n",
    "Um dos passos mais importantes na coleta e estuturação de informação, é acessar e estruturar dados independente do formato. Para esse exercício, vamos utilizar uma extração de texto de bulas de medicamentos e extrair informações relevantes. \n",
    "\n",
    "1. Na pasta bula de medicamentos, existe algumas bulas que podem ser consultadas. Escolha uma delas e converta os dados para o formato texto. \n",
    "2. Liste os componentes dessa bula\n",
    "3. Qual a indicação do medicamento\n",
    "4. Quando não usar\n",
    "\n",
    "Cada um desses campos devem ser armazenados em uma coluna em um dataframe. \n",
    "\n",
    "Utilize o PyPDF2 ou PyMuPDF para extrair os dados e as expressões regulares para organizar os dados"
   ]
  }
 ],
 "metadata": {
  "kernelspec": {
   "display_name": "Python 3 (ipykernel)",
   "language": "python",
   "name": "python3"
  },
  "language_info": {
   "codemirror_mode": {
    "name": "ipython",
    "version": 3
   },
   "file_extension": ".py",
   "mimetype": "text/x-python",
   "name": "python",
   "nbconvert_exporter": "python",
   "pygments_lexer": "ipython3",
   "version": "3.9.13"
  }
 },
 "nbformat": 4,
 "nbformat_minor": 5
}
