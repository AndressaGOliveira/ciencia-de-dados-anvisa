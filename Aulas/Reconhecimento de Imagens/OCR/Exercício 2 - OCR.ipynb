{
 "cells": [
  {
   "cell_type": "markdown",
   "id": "7f7966da",
   "metadata": {},
   "source": [
    "### Exercício 2 - OCR\n",
    "\n",
    "A Ficha Individual de Notificação (FIN) é preenchida pelas unidades assistenciais para cada paciente quando da suspeita da ocorrência de problema de saúde de notificação compulsória ou de interesse nacional, estadual ou municipal. Este instrumento deve ser encaminhado aos serviços responsáveis pela informação e/ou vigilância epidemiológica das Secretarias Municipais, que devem repassar semanalmente os arquivos em meio magnético para as Secretarias Estaduais de Saúde (SES).\n",
    "\n",
    "A ficha de notificação individual contem os atributos comuns a todos os agravos, tais como, dados gerais sobre o agravo e unidade notificadora, dados do paciente (nome, idade, sexo, escolaridade, etc.), dados de residência do paciente. Ela deve ser utilizada para registro de notificação negativa, notificação individual por agravo, notificação de surto e de Inquérito de Tracoma.\n",
    "\n",
    "Para esse exercício, utilize os arquivos:\n",
    "- Notificacao_Individual_v5 - Preenchido.jpg\n",
    "- Notificacao_Individual_v5 - template.jpg\n",
    "\n",
    "#### Roteiro\n",
    "Identificar e extrar os seguintes campos\n",
    "1. Nº \n",
    "2. Município de Notificação\n",
    "3. Nome \n",
    "4. Data de Nascimento\n",
    "5. Data da Notificação\n",
    "6. Raça/Cor\n",
    "7. Sexo\n",
    "\n",
    "Armazenar essas informações em um arquivo em Excel"
   ]
  }
 ],
 "metadata": {
  "kernelspec": {
   "display_name": "Python 3 (ipykernel)",
   "language": "python",
   "name": "python3"
  },
  "language_info": {
   "codemirror_mode": {
    "name": "ipython",
    "version": 3
   },
   "file_extension": ".py",
   "mimetype": "text/x-python",
   "name": "python",
   "nbconvert_exporter": "python",
   "pygments_lexer": "ipython3",
   "version": "3.9.13"
  }
 },
 "nbformat": 4,
 "nbformat_minor": 5
}
