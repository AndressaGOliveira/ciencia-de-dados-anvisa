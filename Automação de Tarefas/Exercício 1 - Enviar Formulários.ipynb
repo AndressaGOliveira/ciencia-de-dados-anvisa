{
 "cells": [
  {
   "cell_type": "markdown",
   "id": "58451705",
   "metadata": {},
   "source": [
    "### Exercício 1\n",
    "Para esse exemplo, utilize o formulário: https://forms.gle/CQnuEywJ591G3knv8 \n",
    "\n",
    "\n",
    "#### Instruções\n",
    "\n",
    "O exercício consiste em preencher o formulário acima e enviar as informações de forma automatizada utilizando o Selenium no python. \n",
    "\n",
    "##### Parte 1\n",
    "\n",
    "- Criar um script que preencha o formulário de forma automática\n",
    "\n",
    "##### Parte 2\n",
    "- Utilize o arquivo contato.csv\n",
    "- Crie uma estrutura de repetição que envie um formulário para cada pessoa da tabela\n",
    "\n",
    "_Nota. Os dados da planilha são fictícios e foram gerados de forma aleatória_"
   ]
  }
 ],
 "metadata": {
  "kernelspec": {
   "display_name": "Python 3 (ipykernel)",
   "language": "python",
   "name": "python3"
  },
  "language_info": {
   "codemirror_mode": {
    "name": "ipython",
    "version": 3
   },
   "file_extension": ".py",
   "mimetype": "text/x-python",
   "name": "python",
   "nbconvert_exporter": "python",
   "pygments_lexer": "ipython3",
   "version": "3.9.13"
  }
 },
 "nbformat": 4,
 "nbformat_minor": 5
}
