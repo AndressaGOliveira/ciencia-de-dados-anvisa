{
 "cells": [
  {
   "cell_type": "code",
   "execution_count": 2,
   "id": "7f0e65ff",
   "metadata": {},
   "outputs": [],
   "source": [
    "import pandas as pd\n",
    "import requests\n",
    "import re\n",
    "from bs4 import BeautifulSoup"
   ]
  },
  {
   "cell_type": "code",
   "execution_count": 177,
   "id": "d0b063cb",
   "metadata": {},
   "outputs": [],
   "source": [
    "def extra_farma_preco(ean):\n",
    "    url = 'https://www.extrafarma.com.br/'\n",
    "    ean = ean\n",
    "\n",
    "    url_final = f'{url}{ean}?_q={ean}&map=ft'\n",
    "    \n",
    "    response = requests.get(url_final)\n",
    "    soup = BeautifulSoup(response.content, 'html.parser')\n",
    "        \n",
    "    nome_elemento = soup.find('span', {'class': 'vtex-product-summary-2-x-productBrand'})\n",
    "    preco_elemento = soup.find('div', {'class': 'extrafarmav2-teaser-labels-2-x-price'})\n",
    "    \n",
    "    if nome_elemento is None:\n",
    "        nome = 'Produto não encontrado'\n",
    "    else:\n",
    "        nome = nome_elemento.text.strip()\n",
    "    \n",
    "    if preco_elemento is None:\n",
    "        preco = 0\n",
    "    else:\n",
    "        preco = preco_elemento.text.strip().removeprefix('R$\\xa0')\n",
    "        preco = float(preco.replace(',', '.'))\n",
    "    \n",
    "    data = {\n",
    "        'NOME_EXTRAFARMA': [nome],\n",
    "        'PRECO_EXTRAFARMA': [preco],\n",
    "        'EAN1':[ean]\n",
    "            }\n",
    "\n",
    "    df = pd.DataFrame(data)\n",
    "    return(df)"
   ]
  }
 ],
 "metadata": {
  "kernelspec": {
   "display_name": "Python 3 (ipykernel)",
   "language": "python",
   "name": "python3"
  },
  "language_info": {
   "codemirror_mode": {
    "name": "ipython",
    "version": 3
   },
   "file_extension": ".py",
   "mimetype": "text/x-python",
   "name": "python",
   "nbconvert_exporter": "python",
   "pygments_lexer": "ipython3",
   "version": "3.9.13"
  }
 },
 "nbformat": 4,
 "nbformat_minor": 5
}
